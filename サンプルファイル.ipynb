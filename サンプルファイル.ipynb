{
 "cells": [
  {
   "cell_type": "code",
   "execution_count": 1,
   "id": "dae0bbec-ccad-4441-bece-f3f018bd4fd8",
   "metadata": {},
   "outputs": [],
   "source": [
    "import requests\n",
    "from bs4 import BeautifulSoup\n",
    "import time\n",
    "import pandas as pd"
   ]
  },
  {
   "cell_type": "code",
   "execution_count": 4,
   "id": "47260417-b7f0-4408-90d5-ee2b05d088fa",
   "metadata": {},
   "outputs": [],
   "source": [
    "# ニフティ不動産　賃貸　大阪府江坂駅\n",
    "url = 'https://myhome.nifty.com/rent/osaka/esaka_st/?lines=osaka:osakashimidosujisen'\n",
    "\n",
    "result = requests.get(url)\n",
    "c = result.content\n",
    "soup = BeautifulSoup(c, \"html.parser\")"
   ]
  },
  {
   "cell_type": "code",
   "execution_count": 14,
   "id": "57dfd6a8-19ad-4537-af96-3ac920b86ca1",
   "metadata": {},
   "outputs": [
    {
     "ename": "AttributeError",
     "evalue": "'NoneType' object has no attribute 'find_all'",
     "output_type": "error",
     "traceback": [
      "\u001b[1;31m---------------------------------------------------------------------------\u001b[0m",
      "\u001b[1;31mAttributeError\u001b[0m                            Traceback (most recent call last)",
      "Input \u001b[1;32mIn [14]\u001b[0m, in \u001b[0;36m<cell line: 3>\u001b[1;34m()\u001b[0m\n\u001b[0;32m      1\u001b[0m \u001b[38;5;66;03m# ページ数を取得\u001b[39;00m\n\u001b[0;32m      2\u001b[0m body \u001b[38;5;241m=\u001b[39m soup\u001b[38;5;241m.\u001b[39mfind(\u001b[38;5;124m\"\u001b[39m\u001b[38;5;124mbody notLoggedIn\u001b[39m\u001b[38;5;124m\"\u001b[39m)\n\u001b[1;32m----> 3\u001b[0m pages \u001b[38;5;241m=\u001b[39m \u001b[43mbody\u001b[49m\u001b[38;5;241;43m.\u001b[39;49m\u001b[43mfind_all\u001b[49m(\u001b[38;5;124m\"\u001b[39m\u001b[38;5;124mdiv\u001b[39m\u001b[38;5;124m\"\u001b[39m, {\u001b[38;5;124m'\u001b[39m\u001b[38;5;124mclass\u001b[39m\u001b[38;5;124m'\u001b[39m:\u001b[38;5;124m'\u001b[39m\u001b[38;5;124mcolumn\u001b[39m\u001b[38;5;124m'\u001b[39m})\n\u001b[0;32m      4\u001b[0m pages_text \u001b[38;5;241m=\u001b[39m \u001b[38;5;28mstr\u001b[39m(pages)\n\u001b[0;32m      5\u001b[0m pages_split \u001b[38;5;241m=\u001b[39m pages_text\u001b[38;5;241m.\u001b[39msplit(\u001b[38;5;124m'\u001b[39m\u001b[38;5;124m</a></li>\u001b[39m\u001b[38;5;130;01m\\n\u001b[39;00m\u001b[38;5;124m</ol>\u001b[39m\u001b[38;5;124m'\u001b[39m)\n",
      "\u001b[1;31mAttributeError\u001b[0m: 'NoneType' object has no attribute 'find_all'"
     ]
    }
   ],
   "source": [
    "# ページ数を取得\n",
    "body = soup.find(\"body notLoggedIn\")\n",
    "pages = body.find_all(\"div\", {'class':'column'})\n",
    "pages_text = str(pages)\n",
    "pages_split = pages_text.split('</a></li>\\n</ol>')\n",
    "num_pages = int(pages_split[0].split('>')[-1])\n",
    "print(\"ページ数＝\",num_pages)"
   ]
  },
  {
   "cell_type": "code",
   "execution_count": 15,
   "id": "5b73ee5a-f313-44be-aec5-36e70a8d3827",
   "metadata": {},
   "outputs": [
    {
     "ename": "NameError",
     "evalue": "name 'num_pages' is not defined",
     "output_type": "error",
     "traceback": [
      "\u001b[1;31m---------------------------------------------------------------------------\u001b[0m",
      "\u001b[1;31mNameError\u001b[0m                                 Traceback (most recent call last)",
      "Input \u001b[1;32mIn [15]\u001b[0m, in \u001b[0;36m<cell line: 9>\u001b[1;34m()\u001b[0m\n\u001b[0;32m      6\u001b[0m urls\u001b[38;5;241m.\u001b[39mappend(url)\n\u001b[0;32m      8\u001b[0m \u001b[38;5;66;03m# 2ページ目以降を格納\u001b[39;00m\n\u001b[1;32m----> 9\u001b[0m \u001b[38;5;28;01mfor\u001b[39;00m i \u001b[38;5;129;01min\u001b[39;00m \u001b[38;5;28mrange\u001b[39m(\u001b[43mnum_pages\u001b[49m\u001b[38;5;241m-\u001b[39m\u001b[38;5;241m1\u001b[39m):\n\u001b[0;32m     10\u001b[0m     pg \u001b[38;5;241m=\u001b[39m \u001b[38;5;28mstr\u001b[39m(i\u001b[38;5;241m+\u001b[39m\u001b[38;5;241m2\u001b[39m)\n\u001b[0;32m     11\u001b[0m     url_page \u001b[38;5;241m=\u001b[39m url \u001b[38;5;241m+\u001b[39m \u001b[38;5;124m'\u001b[39m\u001b[38;5;124m&pn=\u001b[39m\u001b[38;5;124m'\u001b[39m \u001b[38;5;241m+\u001b[39m pg\n",
      "\u001b[1;31mNameError\u001b[0m: name 'num_pages' is not defined"
     ]
    }
   ],
   "source": [
    "# 全てのページのURLを作成\n",
    "# urlを入れる箱（リスト）を設定\n",
    "urls = []\n",
    "\n",
    "# 1ページ目を格納\n",
    "urls.append(url)\n",
    "\n",
    "# 2ページ目以降を格納\n",
    "for i in range(num_pages-1):\n",
    "    pg = str(i+2)\n",
    "    url_page = url + '&pn=' + pg\n",
    "    urls.append(url_page)"
   ]
  },
  {
   "cell_type": "code",
   "execution_count": 132,
   "id": "f13a76aa-56b6-400f-b9a0-333f30a0104c",
   "metadata": {},
   "outputs": [],
   "source": [
    "data = []\n",
    "errors = []\n",
    "for url in urls:\n",
    "    summary = soup.find(\"div\",{'id':'js-bukkenList'})\n",
    "    cassetteitems = summary.find_all(\"div\",{'class':'cassetteitem'})\n",
    "    for cas in cassetteitems:\n",
    "            # 情報取得用の箱を準備します。\n",
    "            subtitle = '' # 物件名\n",
    "            location = '' # 住所\n",
    "            station = ''   # 最寄駅（リスト）\n",
    "            yrs = ''     # 築年数\n",
    "            level = ''    # 階数\n",
    "            value = ''  # 家賃\n",
    "            value2 = '' # 管理費・共益費\n",
    "            floor = '' # 間取り\n",
    "            area = 0 # 面積\n",
    "            \n",
    "            # 物件名\n",
    "            subtitle = cas.find_all(\"div\", \"cassetteitem_content-title\")[0].string\n",
    "            # 住所\n",
    "            location = cas.find_all(\"li\", \"cassetteitem_detail-col1\")[0].string\n",
    "            # 最寄駅\n",
    "            station = cas.find_all(\"div\", \"cassetteitem_detail-text\")[0].string\n",
    "            # 築年数\n",
    "            yrs = cas.find_all(\"li\", \"cassetteitem_detail-col3\")[0].select(\"div\")[0].string\n",
    "            # 階数\n",
    "            level = cas.find_all(\"li\", \"cassetteitem_detail-col3\")[0].select(\"div\")[1].string\n",
    "            # 家賃\n",
    "            value = cas.find_all(\"span\", \"cassetteitem_price cassetteitem_price--rent\")[0].string\n",
    "            # 管理費・共益費\n",
    "            value2 = cas.find_all(\"span\", \"cassetteitem_price cassetteitem_price--administration\")[0].string\n",
    "            # 間取り\n",
    "            floor = cas.find_all(\"span\", \"cassetteitem_madori\")[0].string\n",
    "            # 面積\n",
    "            area = cas.find_all(\"span\", \"cassetteitem_menseki\")[0].text\n",
    "    \n",
    "            data.append([subtitle, location, station, yrs, level, value, value2, floor, area])\n",
    "            "
   ]
  },
  {
   "cell_type": "code",
   "execution_count": 133,
   "id": "002eeef7-9b2d-4ca3-ae13-476d4acdc126",
   "metadata": {},
   "outputs": [],
   "source": [
    "# data listを DataFrameに変換\n",
    "df = pd.DataFrame(data, columns=['物件名','住所','最寄り駅','築年数', '階数', '家賃', '管理費・共益費', '間取り', '面積'])"
   ]
  },
  {
   "cell_type": "code",
   "execution_count": 134,
   "id": "3d1a084e-db82-495b-85b4-1b5f8f469869",
   "metadata": {},
   "outputs": [],
   "source": [
    "# csvファイルとして保存\n",
    "df.to_csv('suumo_bukken.csv', sep = ',',encoding='utf-8-sig')"
   ]
  },
  {
   "cell_type": "code",
   "execution_count": null,
   "id": "9cc7032e-21f5-442a-82b5-efcd250f0384",
   "metadata": {},
   "outputs": [],
   "source": [
    "#山﨑テスト"
   ]
  },
  {
   "cell_type": "code",
   "execution_count": null,
   "id": "3f2e6e0d",
   "metadata": {},
   "outputs": [],
   "source": [
    "#山﨑テスト２"
   ]
  },
  {
   "cell_type": "code",
   "execution_count": null,
   "id": "b3970b2c",
   "metadata": {},
   "outputs": [],
   "source": []
  }
 ],
 "metadata": {
  "kernelspec": {
   "display_name": "Python 3 (ipykernel)",
   "language": "python",
   "name": "python3"
  },
  "language_info": {
   "codemirror_mode": {
    "name": "ipython",
    "version": 3
   },
   "file_extension": ".py",
   "mimetype": "text/x-python",
   "name": "python",
   "nbconvert_exporter": "python",
   "pygments_lexer": "ipython3",
   "version": "3.9.12"
  }
 },
 "nbformat": 4,
 "nbformat_minor": 5
}
